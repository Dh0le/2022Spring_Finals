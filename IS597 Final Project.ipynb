{
 "cells": [
  {
   "cell_type": "code",
   "execution_count": 1,
   "id": "9bd69897",
   "metadata": {},
   "outputs": [],
   "source": [
    "import pandas as pd\n",
    "import matplotlib.pyplot as plt\n",
    "import numpy as np\n",
    "from matplotlib import font_manager as fm\n",
    "from  matplotlib import cm\n",
    "import json\n",
    "import requests\n",
    "from pandas.io.json import json_normalize\n",
    "from geopy.distance import geodesic"
   ]
  },
  {
   "cell_type": "code",
   "execution_count": 2,
   "id": "bed5d895",
   "metadata": {},
   "outputs": [
    {
     "name": "stderr",
     "output_type": "stream",
     "text": [
      "/Applications/anaconda3/lib/python3.8/site-packages/IPython/core/interactiveshell.py:3165: DtypeWarning: Columns (3) have mixed types.Specify dtype option on import or set low_memory=False.\n",
      "  has_raised = await self.run_ast_nodes(code_ast.body, cell_name,\n"
     ]
    }
   ],
   "source": [
    "crimeData = pd.read_csv(\"data/NYPD_Arrests_Data__Historic_.csv\").dropna()\n",
    "collisionData = pd.read_csv(\"data/Motor_Vehicle_Collisions_-_Crashes.csv\")\n",
    "airbnbData = pd.read_csv(\"data/AB_NYC_2019.csv\").dropna()"
   ]
  },
  {
   "cell_type": "code",
   "execution_count": 3,
   "id": "2543b3cf",
   "metadata": {},
   "outputs": [],
   "source": [
    "def plotPieChart(data,label,title):\n",
    "    fig, axes = plt.subplots(figsize=(15,15),ncols=2)\n",
    "    ax1, ax2 = axes.ravel()\n",
    "\n",
    "    colors = cm.rainbow(np.arange(len(data))/len(data))# colormaps: Paired, autumn, rainbow, gray,spring,Darks\n",
    "    patches, texts, autotexts = ax1.pie(data, labels=labels, autopct='%1.0f%%',\n",
    "        shadow=False, startangle=170, colors=colors)\n",
    "\n",
    "    ax1.axis('equal')  \n",
    "    \n",
    "    proptease = fm.FontProperties()\n",
    "    proptease.set_size('xx-small')\n",
    "    # font size include: ‘xx-small’,x-small’,'small’,'medium’,‘large’,‘x-large’,‘xx-large’ or number, e.g. '12'\n",
    "    plt.setp(autotexts, fontproperties=proptease)\n",
    "    plt.setp(texts, fontproperties=proptease)\n",
    "\n",
    "    ax1.set_title(title, loc='center')\n",
    "    ax2.axis('off')\n",
    "    ax2.legend(patches, labels, loc='center left')\n",
    "\n",
    "    plt.tight_layout()\n",
    "    plt.savefig('Demo_project_set_legend_good.jpg')\n",
    "    plt.show()"
   ]
  },
  {
   "cell_type": "code",
   "execution_count": 4,
   "id": "358b3414",
   "metadata": {},
   "outputs": [
    {
     "data": {
      "text/html": [
       "<div>\n",
       "<style scoped>\n",
       "    .dataframe tbody tr th:only-of-type {\n",
       "        vertical-align: middle;\n",
       "    }\n",
       "\n",
       "    .dataframe tbody tr th {\n",
       "        vertical-align: top;\n",
       "    }\n",
       "\n",
       "    .dataframe thead th {\n",
       "        text-align: right;\n",
       "    }\n",
       "</style>\n",
       "<table border=\"1\" class=\"dataframe\">\n",
       "  <thead>\n",
       "    <tr style=\"text-align: right;\">\n",
       "      <th></th>\n",
       "      <th>ARREST_KEY</th>\n",
       "      <th>ARREST_DATE</th>\n",
       "      <th>PD_CD</th>\n",
       "      <th>PD_DESC</th>\n",
       "      <th>KY_CD</th>\n",
       "      <th>OFNS_DESC</th>\n",
       "      <th>LAW_CODE</th>\n",
       "      <th>LAW_CAT_CD</th>\n",
       "      <th>ARREST_BORO</th>\n",
       "      <th>ARREST_PRECINCT</th>\n",
       "      <th>JURISDICTION_CODE</th>\n",
       "      <th>AGE_GROUP</th>\n",
       "      <th>PERP_SEX</th>\n",
       "      <th>PERP_RACE</th>\n",
       "      <th>X_COORD_CD</th>\n",
       "      <th>Y_COORD_CD</th>\n",
       "      <th>Latitude</th>\n",
       "      <th>Longitude</th>\n",
       "      <th>Lon_Lat</th>\n",
       "    </tr>\n",
       "  </thead>\n",
       "  <tbody>\n",
       "    <tr>\n",
       "      <th>3</th>\n",
       "      <td>189714430</td>\n",
       "      <td>11/07/2018</td>\n",
       "      <td>117.0</td>\n",
       "      <td>RECKLESS ENDANGERMENT 1</td>\n",
       "      <td>126.0</td>\n",
       "      <td>MISCELLANEOUS PENAL LAW</td>\n",
       "      <td>PL 1202500</td>\n",
       "      <td>F</td>\n",
       "      <td>M</td>\n",
       "      <td>26</td>\n",
       "      <td>0.0</td>\n",
       "      <td>45-64</td>\n",
       "      <td>M</td>\n",
       "      <td>WHITE</td>\n",
       "      <td>993685.0</td>\n",
       "      <td>233346.0</td>\n",
       "      <td>40.807160</td>\n",
       "      <td>-73.965920</td>\n",
       "      <td>POINT (-73.96591978699998 40.80715993100006)</td>\n",
       "    </tr>\n",
       "    <tr>\n",
       "      <th>5</th>\n",
       "      <td>190017529</td>\n",
       "      <td>11/15/2018</td>\n",
       "      <td>109.0</td>\n",
       "      <td>ASSAULT 2,1,UNCLASSIFIED</td>\n",
       "      <td>106.0</td>\n",
       "      <td>FELONY ASSAULT</td>\n",
       "      <td>PL 1200502</td>\n",
       "      <td>F</td>\n",
       "      <td>B</td>\n",
       "      <td>47</td>\n",
       "      <td>0.0</td>\n",
       "      <td>45-64</td>\n",
       "      <td>M</td>\n",
       "      <td>BLACK</td>\n",
       "      <td>1026486.0</td>\n",
       "      <td>262591.0</td>\n",
       "      <td>40.887333</td>\n",
       "      <td>-73.847250</td>\n",
       "      <td>POINT (-73.84725001299995 40.88733281800006)</td>\n",
       "    </tr>\n",
       "    <tr>\n",
       "      <th>10</th>\n",
       "      <td>189678705</td>\n",
       "      <td>11/07/2018</td>\n",
       "      <td>175.0</td>\n",
       "      <td>SEXUAL ABUSE 3,2</td>\n",
       "      <td>233.0</td>\n",
       "      <td>SEX CRIMES</td>\n",
       "      <td>PL 13052A1</td>\n",
       "      <td>M</td>\n",
       "      <td>B</td>\n",
       "      <td>52</td>\n",
       "      <td>0.0</td>\n",
       "      <td>25-44</td>\n",
       "      <td>M</td>\n",
       "      <td>BLACK</td>\n",
       "      <td>1017542.0</td>\n",
       "      <td>255919.0</td>\n",
       "      <td>40.869059</td>\n",
       "      <td>-73.879630</td>\n",
       "      <td>POINT (-73.87963014799993 40.86905853200005)</td>\n",
       "    </tr>\n",
       "    <tr>\n",
       "      <th>14</th>\n",
       "      <td>189068425</td>\n",
       "      <td>10/22/2018</td>\n",
       "      <td>105.0</td>\n",
       "      <td>STRANGULATION 1ST</td>\n",
       "      <td>106.0</td>\n",
       "      <td>FELONY ASSAULT</td>\n",
       "      <td>PL 1211200</td>\n",
       "      <td>F</td>\n",
       "      <td>K</td>\n",
       "      <td>94</td>\n",
       "      <td>0.0</td>\n",
       "      <td>45-64</td>\n",
       "      <td>M</td>\n",
       "      <td>BLACK</td>\n",
       "      <td>995886.0</td>\n",
       "      <td>200705.0</td>\n",
       "      <td>40.717566</td>\n",
       "      <td>-73.958026</td>\n",
       "      <td>POINT (-73.95802570099994 40.71756616100004)</td>\n",
       "    </tr>\n",
       "    <tr>\n",
       "      <th>15</th>\n",
       "      <td>65864442</td>\n",
       "      <td>09/17/2009</td>\n",
       "      <td>164.0</td>\n",
       "      <td>SODOMY 3</td>\n",
       "      <td>116.0</td>\n",
       "      <td>SEX CRIMES</td>\n",
       "      <td>PL 1304002</td>\n",
       "      <td>F</td>\n",
       "      <td>S</td>\n",
       "      <td>122</td>\n",
       "      <td>0.0</td>\n",
       "      <td>25-44</td>\n",
       "      <td>M</td>\n",
       "      <td>BLACK HISPANIC</td>\n",
       "      <td>954943.0</td>\n",
       "      <td>148360.0</td>\n",
       "      <td>40.573850</td>\n",
       "      <td>-74.105496</td>\n",
       "      <td>POINT (-74.10549615599997 40.573849649000074)</td>\n",
       "    </tr>\n",
       "  </tbody>\n",
       "</table>\n",
       "</div>"
      ],
      "text/plain": [
       "    ARREST_KEY ARREST_DATE  PD_CD                   PD_DESC  KY_CD  \\\n",
       "3    189714430  11/07/2018  117.0   RECKLESS ENDANGERMENT 1  126.0   \n",
       "5    190017529  11/15/2018  109.0  ASSAULT 2,1,UNCLASSIFIED  106.0   \n",
       "10   189678705  11/07/2018  175.0          SEXUAL ABUSE 3,2  233.0   \n",
       "14   189068425  10/22/2018  105.0         STRANGULATION 1ST  106.0   \n",
       "15    65864442  09/17/2009  164.0                  SODOMY 3  116.0   \n",
       "\n",
       "                  OFNS_DESC    LAW_CODE LAW_CAT_CD ARREST_BORO  \\\n",
       "3   MISCELLANEOUS PENAL LAW  PL 1202500          F           M   \n",
       "5            FELONY ASSAULT  PL 1200502          F           B   \n",
       "10               SEX CRIMES  PL 13052A1          M           B   \n",
       "14           FELONY ASSAULT  PL 1211200          F           K   \n",
       "15               SEX CRIMES  PL 1304002          F           S   \n",
       "\n",
       "    ARREST_PRECINCT  JURISDICTION_CODE AGE_GROUP PERP_SEX       PERP_RACE  \\\n",
       "3                26                0.0     45-64        M           WHITE   \n",
       "5                47                0.0     45-64        M           BLACK   \n",
       "10               52                0.0     25-44        M           BLACK   \n",
       "14               94                0.0     45-64        M           BLACK   \n",
       "15              122                0.0     25-44        M  BLACK HISPANIC   \n",
       "\n",
       "    X_COORD_CD  Y_COORD_CD   Latitude  Longitude  \\\n",
       "3     993685.0    233346.0  40.807160 -73.965920   \n",
       "5    1026486.0    262591.0  40.887333 -73.847250   \n",
       "10   1017542.0    255919.0  40.869059 -73.879630   \n",
       "14    995886.0    200705.0  40.717566 -73.958026   \n",
       "15    954943.0    148360.0  40.573850 -74.105496   \n",
       "\n",
       "                                          Lon_Lat  \n",
       "3    POINT (-73.96591978699998 40.80715993100006)  \n",
       "5    POINT (-73.84725001299995 40.88733281800006)  \n",
       "10   POINT (-73.87963014799993 40.86905853200005)  \n",
       "14   POINT (-73.95802570099994 40.71756616100004)  \n",
       "15  POINT (-74.10549615599997 40.573849649000074)  "
      ]
     },
     "execution_count": 4,
     "metadata": {},
     "output_type": "execute_result"
    }
   ],
   "source": [
    "crimeData.head()"
   ]
  },
  {
   "cell_type": "markdown",
   "id": "22fd2aa5",
   "metadata": {},
   "source": [
    "Let's take a look a the distrubation of crime type and where they happend"
   ]
  },
  {
   "cell_type": "code",
   "execution_count": 5,
   "id": "35fc4fd1",
   "metadata": {},
   "outputs": [],
   "source": [
    "typeCount = crimeData['OFNS_DESC']\n",
    "typeCount = typeCount.value_counts(sort=True)\n",
    "labels =typeCount.index\n",
    "number = np.array(typeCount)"
   ]
  },
  {
   "cell_type": "code",
   "execution_count": null,
   "id": "c32d86d2",
   "metadata": {},
   "outputs": [],
   "source": [
    "plotPieChart(number,labels, \"Crime Distribution\")"
   ]
  },
  {
   "cell_type": "markdown",
   "id": "cad124c2",
   "metadata": {},
   "source": [
    "Then, let's take a look a how these arrests distribute amoung boroughs."
   ]
  },
  {
   "cell_type": "code",
   "execution_count": null,
   "id": "91df0478",
   "metadata": {},
   "outputs": [],
   "source": [
    "typeBorough = crimeData['ARREST_BORO']\n",
    "typeBorough = typeBorough.replace(['K','Q','M','B','S'], ['BROOKLYN', 'QUEENS', 'MANHATTAN', 'BRONX', 'STATEN ISLAND'])\n",
    "typeCountB = typeBorough.value_counts()\n",
    "labels = typeCountB.index\n",
    "numberB = np.array(typeCountB)\n",
    "plotPieChart(typeCountB,labels,\"Borough distribution\")"
   ]
  },
  {
   "cell_type": "markdown",
   "id": "a95a4d7b",
   "metadata": {},
   "source": [
    "Based on previous pie chart, we select severl crime that happens alot and might affect house rent and sale prices.\n",
    "There Assault, theft, and trespassing. We check these types of crime separatly in different borough."
   ]
  },
  {
   "cell_type": "code",
   "execution_count": null,
   "id": "9e948679",
   "metadata": {},
   "outputs": [],
   "source": [
    "crimeGivenBorough = crimeData[['OFNS_DESC','ARREST_BORO']]"
   ]
  },
  {
   "cell_type": "code",
   "execution_count": null,
   "id": "bf00d36e",
   "metadata": {},
   "outputs": [],
   "source": [
    "assult = crimeGivenBorough.loc[crimeGivenBorough['OFNS_DESC']=='ASSAULT 3 & RELATED OFFENSES']\n",
    "theft = crimeGivenBorough.loc[crimeGivenBorough['OFNS_DESC']=='OTHER OFFENSES RELATED TO THEFT']\n",
    "threspassing = crimeGivenBorough.loc[crimeGivenBorough['OFNS_DESC']=='CRIMINAL TRESPASS']"
   ]
  },
  {
   "cell_type": "markdown",
   "id": "ee8ee3fb",
   "metadata": {},
   "source": [
    "Lets plot them out"
   ]
  },
  {
   "cell_type": "code",
   "execution_count": null,
   "id": "77c66b97",
   "metadata": {},
   "outputs": [],
   "source": [
    "data = assult['ARREST_BORO']\n",
    "data = data.replace(['K','Q','M','B','S'], ['BROOKLYN', 'QUEENS', 'MANHATTAN', 'BRONX', 'STATEN ISLAND'])\n",
    "data = data.value_counts()\n",
    "labels = data.index\n",
    "plotPieChart(data,labels,\"Assults distribution in different borough\")"
   ]
  },
  {
   "cell_type": "code",
   "execution_count": null,
   "id": "ace50c46",
   "metadata": {},
   "outputs": [],
   "source": [
    "data = theft['ARREST_BORO']\n",
    "data = data.replace(['K','Q','M','B','S'], ['BROOKLYN', 'QUEENS', 'MANHATTAN', 'BRONX', 'STATEN ISLAND'])\n",
    "data = data.value_counts()\n",
    "labels = data.index\n",
    "plotPieChart(data,labels,\"Theft distribution in different borough\")"
   ]
  },
  {
   "cell_type": "code",
   "execution_count": null,
   "id": "4e03374d",
   "metadata": {},
   "outputs": [],
   "source": [
    "data = threspassing['ARREST_BORO']\n",
    "data = data.replace(['K','Q','M','B','S'], ['BROOKLYN', 'QUEENS', 'MANHATTAN', 'BRONX', 'STATEN ISLAND'])\n",
    "data = data.value_counts()\n",
    "labels = data.index\n",
    "plotPieChart(data,labels,\"Thresspassing distribution in different borough\")"
   ]
  },
  {
   "cell_type": "markdown",
   "id": "a8fb12ed",
   "metadata": {},
   "source": [
    "Lets now have a view of collision data and how these collision distributed among boroughs"
   ]
  },
  {
   "cell_type": "code",
   "execution_count": null,
   "id": "b2669d9c",
   "metadata": {},
   "outputs": [],
   "source": [
    "collisionData.head()"
   ]
  },
  {
   "cell_type": "code",
   "execution_count": null,
   "id": "f5bb3114",
   "metadata": {},
   "outputs": [],
   "source": [
    "collisionBorough = collisionData['BOROUGH']\n",
    "collisionBorough = collisionBorough.value_counts()\n",
    "labels = collisionBorough.index\n",
    "plotPieChart(collisionBorough,labels,\"Collision among boroughs\")"
   ]
  },
  {
   "cell_type": "code",
   "execution_count": null,
   "id": "810b9261",
   "metadata": {},
   "outputs": [],
   "source": [
    "collisionBorough = collisionData['BOROUGH']\n",
    "collisionBorough = collisionBorough.value_counts()\n",
    "labels = collisionBorough.index\n",
    "plotPieChart(collisionBorough,labels,\"Collision among boroughs\")"
   ]
  },
  {
   "cell_type": "code",
   "execution_count": null,
   "id": "cead409b",
   "metadata": {
    "scrolled": true
   },
   "outputs": [],
   "source": [
    "collisionVehicle = collisionData['VEHICLE TYPE CODE 1']\n",
    "collisionVehicle = collisionVehicle.value_counts();\n",
    "collisionVehicle.head()"
   ]
  },
  {
   "cell_type": "markdown",
   "id": "c54900c5",
   "metadata": {},
   "source": [
    "Here we try to analyze the different car type of collision in different boroughs."
   ]
  },
  {
   "cell_type": "code",
   "execution_count": null,
   "id": "368d5eee",
   "metadata": {},
   "outputs": [],
   "source": [
    "# this function extract exact number of collision in sedan,suv,taxi,and pick up truck in given borough.\n",
    "def getBoroughDistribution(cityName,collisionData):\n",
    "    borough = collisionData.loc[collisionData['BOROUGH']== cityName]\n",
    "    borough = borough[borough['VEHICLE TYPE CODE 1'].notna()]\n",
    "    borough['VEHICLE TYPE CODE 1'] = borough['VEHICLE TYPE CODE 1'].str.lower()\n",
    "    borough.loc[borough['VEHICLE TYPE CODE 1'].str.contains('sedan'), 'VEHICLE TYPE CODE 1'] = 'sedan'\n",
    "    borough.loc[borough['VEHICLE TYPE CODE 1'].str.contains('Sport'), 'VEHICLE TYPE CODE 1'] = 'SUV'\n",
    "    sedanNum = len(borough.loc[borough['VEHICLE TYPE CODE 1'].str.contains('sedan')==True])\n",
    "    pickUpNum = len(borough.loc[borough['VEHICLE TYPE CODE 1'].str.contains('pick')==True])\n",
    "    taxiNum = len(borough.loc[borough['VEHICLE TYPE CODE 1'].str.contains('taxi')==True])\n",
    "    SUVNum = len(borough.loc[borough['VEHICLE TYPE CODE 1'].str.contains('sport')==True])\n",
    "    return [sedanNum,pickUpNum,taxiNum,SUVNum]"
   ]
  },
  {
   "cell_type": "code",
   "execution_count": null,
   "id": "f396a62d",
   "metadata": {},
   "outputs": [],
   "source": [
    "brooklyn = getBoroughDistribution('BROOKLYN',collisionData)\n",
    "queens = getBoroughDistribution('QUEENS',collisionData)\n",
    "bronx = getBoroughDistribution('BRONX',collisionData)\n",
    "island = getBoroughDistribution('STATEN ISLAND',collisionData)\n",
    "manhattan = getBoroughDistribution('MANHATTAN',collisionData)"
   ]
  },
  {
   "cell_type": "code",
   "execution_count": null,
   "id": "e7790426",
   "metadata": {},
   "outputs": [],
   "source": [
    "columns = [\"Sedan\",\"Pick-up Truck\", \"Taxi\",\"SUV\"]\n",
    "index = ['BROOKLYN','QUEENS','BRONX','STATEN ISLAND','MANHATTAN']\n",
    "frames = [brooklyn,queens,bronx,island,manhattan]\n",
    "frames = pd.DataFrame(frames,index = index,columns = columns)\n",
    "frames"
   ]
  },
  {
   "cell_type": "code",
   "execution_count": null,
   "id": "64f0b5e5",
   "metadata": {},
   "outputs": [],
   "source": [
    "frames.reset_index(inplace=True)\n",
    "frames = frames.rename(columns = {'index':'Borough'})\n",
    "frames"
   ]
  },
  {
   "cell_type": "code",
   "execution_count": null,
   "id": "27eece5f",
   "metadata": {},
   "outputs": [],
   "source": [
    "frames.plot(x='Borough',y=[\"Sedan\",\"Pick-up Truck\",\"Taxi\",\"SUV\"],kind ='bar')"
   ]
  },
  {
   "cell_type": "code",
   "execution_count": null,
   "id": "ec810571",
   "metadata": {},
   "outputs": [],
   "source": [
    "airbnbData.head()"
   ]
  },
  {
   "cell_type": "code",
   "execution_count": null,
   "id": "cf9cada7",
   "metadata": {},
   "outputs": [],
   "source": [
    "avgData = airbnbData.groupby('neighbourhood_group')['price'].mean()\n",
    "labels = avgData.index\n",
    "labels"
   ]
  },
  {
   "cell_type": "markdown",
   "id": "b6e04c29",
   "metadata": {},
   "source": [
    "And let's plot out the average price of airbnb rent price in each borough."
   ]
  },
  {
   "cell_type": "code",
   "execution_count": null,
   "id": "e4f4f413",
   "metadata": {},
   "outputs": [],
   "source": [
    "plt.bar(labels, avgData)\n",
    "plt.show()"
   ]
  },
  {
   "cell_type": "markdown",
   "id": "88e9e6df",
   "metadata": {},
   "source": [
    "# Explore New York neighborhood data\n",
    "Download and open json file from https://cocl.us/new_york_dataset"
   ]
  },
  {
   "cell_type": "code",
   "execution_count": null,
   "id": "f28e6ed2",
   "metadata": {},
   "outputs": [],
   "source": [
    "with open('data/nyu_2451_34572-geojson.json') as json_data:\n",
    "    newyork_data = json.load(json_data)\n",
    "newyork_data['features'][:5]"
   ]
  },
  {
   "cell_type": "code",
   "execution_count": 26,
   "id": "6dad22bc",
   "metadata": {},
   "outputs": [
    {
     "data": {
      "text/plain": [
       "{'type': 'Feature',\n",
       " 'id': 'nyu_2451_34572.1',\n",
       " 'geometry': {'type': 'Point',\n",
       "  'coordinates': [-73.84720052054902, 40.89470517661]},\n",
       " 'geometry_name': 'geom',\n",
       " 'properties': {'name': 'Wakefield',\n",
       "  'stacked': 1,\n",
       "  'annoline1': 'Wakefield',\n",
       "  'annoline2': None,\n",
       "  'annoline3': None,\n",
       "  'annoangle': 0.0,\n",
       "  'borough': 'Bronx',\n",
       "  'bbox': [-73.84720052054902,\n",
       "   40.89470517661,\n",
       "   -73.84720052054902,\n",
       "   40.89470517661]}}"
      ]
     },
     "execution_count": 26,
     "metadata": {},
     "output_type": "execute_result"
    }
   ],
   "source": [
    "neighborhoods_data = newyork_data['features']\n",
    "neighborhoods_data[0]"
   ]
  },
  {
   "cell_type": "markdown",
   "id": "cb74fe0d",
   "metadata": {},
   "source": [
    "Load json data into Pandas DataFrame"
   ]
  },
  {
   "cell_type": "code",
   "execution_count": 27,
   "id": "99e7835c",
   "metadata": {},
   "outputs": [
    {
     "data": {
      "text/html": [
       "<div>\n",
       "<style scoped>\n",
       "    .dataframe tbody tr th:only-of-type {\n",
       "        vertical-align: middle;\n",
       "    }\n",
       "\n",
       "    .dataframe tbody tr th {\n",
       "        vertical-align: top;\n",
       "    }\n",
       "\n",
       "    .dataframe thead th {\n",
       "        text-align: right;\n",
       "    }\n",
       "</style>\n",
       "<table border=\"1\" class=\"dataframe\">\n",
       "  <thead>\n",
       "    <tr style=\"text-align: right;\">\n",
       "      <th></th>\n",
       "      <th>Borough</th>\n",
       "      <th>Neighborhood</th>\n",
       "      <th>Latitude</th>\n",
       "      <th>Longitude</th>\n",
       "    </tr>\n",
       "  </thead>\n",
       "  <tbody>\n",
       "    <tr>\n",
       "      <th>0</th>\n",
       "      <td>BRONX</td>\n",
       "      <td>Wakefield</td>\n",
       "      <td>40.894705</td>\n",
       "      <td>-73.847201</td>\n",
       "    </tr>\n",
       "    <tr>\n",
       "      <th>1</th>\n",
       "      <td>BRONX</td>\n",
       "      <td>Co-op City</td>\n",
       "      <td>40.874294</td>\n",
       "      <td>-73.829939</td>\n",
       "    </tr>\n",
       "    <tr>\n",
       "      <th>2</th>\n",
       "      <td>BRONX</td>\n",
       "      <td>Eastchester</td>\n",
       "      <td>40.887556</td>\n",
       "      <td>-73.827806</td>\n",
       "    </tr>\n",
       "    <tr>\n",
       "      <th>3</th>\n",
       "      <td>BRONX</td>\n",
       "      <td>Fieldston</td>\n",
       "      <td>40.895437</td>\n",
       "      <td>-73.905643</td>\n",
       "    </tr>\n",
       "    <tr>\n",
       "      <th>4</th>\n",
       "      <td>BRONX</td>\n",
       "      <td>Riverdale</td>\n",
       "      <td>40.890834</td>\n",
       "      <td>-73.912585</td>\n",
       "    </tr>\n",
       "    <tr>\n",
       "      <th>...</th>\n",
       "      <td>...</td>\n",
       "      <td>...</td>\n",
       "      <td>...</td>\n",
       "      <td>...</td>\n",
       "    </tr>\n",
       "    <tr>\n",
       "      <th>301</th>\n",
       "      <td>MANHATTAN</td>\n",
       "      <td>Hudson Yards</td>\n",
       "      <td>40.756658</td>\n",
       "      <td>-74.000111</td>\n",
       "    </tr>\n",
       "    <tr>\n",
       "      <th>302</th>\n",
       "      <td>QUEENS</td>\n",
       "      <td>Hammels</td>\n",
       "      <td>40.587338</td>\n",
       "      <td>-73.805530</td>\n",
       "    </tr>\n",
       "    <tr>\n",
       "      <th>303</th>\n",
       "      <td>QUEENS</td>\n",
       "      <td>Bayswater</td>\n",
       "      <td>40.611322</td>\n",
       "      <td>-73.765968</td>\n",
       "    </tr>\n",
       "    <tr>\n",
       "      <th>304</th>\n",
       "      <td>QUEENS</td>\n",
       "      <td>Queensbridge</td>\n",
       "      <td>40.756091</td>\n",
       "      <td>-73.945631</td>\n",
       "    </tr>\n",
       "    <tr>\n",
       "      <th>305</th>\n",
       "      <td>STATEN ISLAND</td>\n",
       "      <td>Fox Hills</td>\n",
       "      <td>40.617311</td>\n",
       "      <td>-74.081740</td>\n",
       "    </tr>\n",
       "  </tbody>\n",
       "</table>\n",
       "<p>306 rows × 4 columns</p>\n",
       "</div>"
      ],
      "text/plain": [
       "           Borough  Neighborhood   Latitude  Longitude\n",
       "0            BRONX     Wakefield  40.894705 -73.847201\n",
       "1            BRONX    Co-op City  40.874294 -73.829939\n",
       "2            BRONX   Eastchester  40.887556 -73.827806\n",
       "3            BRONX     Fieldston  40.895437 -73.905643\n",
       "4            BRONX     Riverdale  40.890834 -73.912585\n",
       "..             ...           ...        ...        ...\n",
       "301      MANHATTAN  Hudson Yards  40.756658 -74.000111\n",
       "302         QUEENS       Hammels  40.587338 -73.805530\n",
       "303         QUEENS     Bayswater  40.611322 -73.765968\n",
       "304         QUEENS  Queensbridge  40.756091 -73.945631\n",
       "305  STATEN ISLAND     Fox Hills  40.617311 -74.081740\n",
       "\n",
       "[306 rows x 4 columns]"
      ]
     },
     "execution_count": 27,
     "metadata": {},
     "output_type": "execute_result"
    }
   ],
   "source": [
    "# define the dataframe columns\n",
    "column_names = ['Borough', 'Neighborhood', 'Latitude', 'Longitude'] \n",
    "\n",
    "# instantiate the dataframe\n",
    "neighborhoods = pd.DataFrame(columns=column_names)\n",
    "for data in neighborhoods_data:\n",
    "    borough = neighborhood_name = data['properties']['borough'] \n",
    "    neighborhood_name = data['properties']['name']\n",
    "        \n",
    "    neighborhood_latlon = data['geometry']['coordinates']\n",
    "    neighborhood_lat = neighborhood_latlon[1]\n",
    "    neighborhood_lon = neighborhood_latlon[0]\n",
    "    \n",
    "    neighborhoods = neighborhoods.append({'Borough': borough.upper(),\n",
    "                                          'Neighborhood': neighborhood_name,\n",
    "                                          'Latitude': neighborhood_lat,\n",
    "                                          'Longitude': neighborhood_lon}, ignore_index=True)\n",
    "neighborhoods"
   ]
  },
  {
   "cell_type": "markdown",
   "id": "e0b533fc",
   "metadata": {},
   "source": [
    "Define a function that calculate the distance between vehicle collision and neighborhoods"
   ]
  },
  {
   "cell_type": "code",
   "execution_count": 28,
   "id": "08cd8268",
   "metadata": {},
   "outputs": [],
   "source": [
    "def vehicle_collision_neighborhood(location: tuple, borough: str) ->str:\n",
    "    bor = neighborhoods.loc[neighborhoods.Borough == borough, ['Borough', 'Neighborhood', 'Latitude', 'Longitude']]\n",
    "    bor['Coords'] = bor[['Latitude', 'Longitude']].apply(tuple, axis=1)\n",
    "    for index, row in bor.iterrows():\n",
    "        bor.loc[index, 'Distance'] = geodesic(location, bor.loc[index, 'Coords']).km\n",
    "    min_index = bor['Distance'].idxmin()\n",
    "    return bor.loc[min_index, 'Neighborhood']"
   ]
  },
  {
   "cell_type": "code",
   "execution_count": 29,
   "id": "516de7ea",
   "metadata": {},
   "outputs": [
    {
     "data": {
      "text/plain": [
       "'Fieldston'"
      ]
     },
     "execution_count": 29,
     "metadata": {},
     "output_type": "execute_result"
    }
   ],
   "source": [
    "vehicle_collision_neighborhood((40.895437, -73.905643), 'BRONX')"
   ]
  },
  {
   "cell_type": "code",
   "execution_count": null,
   "id": "474e1492",
   "metadata": {},
   "outputs": [],
   "source": []
  }
 ],
 "metadata": {
  "kernelspec": {
   "display_name": "Python 3",
   "language": "python",
   "name": "python3"
  },
  "language_info": {
   "codemirror_mode": {
    "name": "ipython",
    "version": 3
   },
   "file_extension": ".py",
   "mimetype": "text/x-python",
   "name": "python",
   "nbconvert_exporter": "python",
   "pygments_lexer": "ipython3",
   "version": "3.8.8"
  }
 },
 "nbformat": 4,
 "nbformat_minor": 5
}
